{
 "cells": [
  {
   "cell_type": "code",
   "execution_count": 2,
   "metadata": {
    "collapsed": true,
    "deletable": true,
    "editable": true
   },
   "outputs": [],
   "source": [
    "%matplotlib inline\n",
    "import pandas as pd\n",
    "import numpy as np\n",
    "import matplotlib.pyplot as plt\n",
    "import sklearn\n",
    "import seaborn as sns"
   ]
  },
  {
   "cell_type": "code",
   "execution_count": 3,
   "metadata": {
    "collapsed": true,
    "deletable": true,
    "editable": true
   },
   "outputs": [],
   "source": [
    "df = pd.read_csv('words.csv', sep=';', names = [\"user\", \"word\", \"average\", \"time\"])"
   ]
  },
  {
   "cell_type": "code",
   "execution_count": 4,
   "metadata": {
    "collapsed": false,
    "deletable": true,
    "editable": true
   },
   "outputs": [],
   "source": [
    "#Remove bad data (input typos)\n",
    "df = df[df['user'] != 'None']"
   ]
  },
  {
   "cell_type": "code",
   "execution_count": 5,
   "metadata": {
    "collapsed": false,
    "deletable": true,
    "editable": true
   },
   "outputs": [
    {
     "data": {
      "text/html": [
       "<div>\n",
       "<table border=\"1\" class=\"dataframe\">\n",
       "  <thead>\n",
       "    <tr style=\"text-align: right;\">\n",
       "      <th></th>\n",
       "      <th>user</th>\n",
       "      <th>word</th>\n",
       "      <th>average</th>\n",
       "      <th>time</th>\n",
       "    </tr>\n",
       "  </thead>\n",
       "  <tbody>\n",
       "    <tr>\n",
       "      <th>0</th>\n",
       "      <td>axel</td>\n",
       "      <td>tabaco</td>\n",
       "      <td>38.333333</td>\n",
       "      <td>2.245312</td>\n",
       "    </tr>\n",
       "    <tr>\n",
       "      <th>1</th>\n",
       "      <td>axel</td>\n",
       "      <td>lana</td>\n",
       "      <td>12.666667</td>\n",
       "      <td>1.476318</td>\n",
       "    </tr>\n",
       "    <tr>\n",
       "      <th>2</th>\n",
       "      <td>axel</td>\n",
       "      <td>mala</td>\n",
       "      <td>19.333333</td>\n",
       "      <td>1.350228</td>\n",
       "    </tr>\n",
       "    <tr>\n",
       "      <th>3</th>\n",
       "      <td>axel</td>\n",
       "      <td>rumbo</td>\n",
       "      <td>33.400000</td>\n",
       "      <td>2.183524</td>\n",
       "    </tr>\n",
       "    <tr>\n",
       "      <th>4</th>\n",
       "      <td>axel</td>\n",
       "      <td>mapa</td>\n",
       "      <td>27.000000</td>\n",
       "      <td>1.633816</td>\n",
       "    </tr>\n",
       "    <tr>\n",
       "      <th>5</th>\n",
       "      <td>axel</td>\n",
       "      <td>puso</td>\n",
       "      <td>27.250000</td>\n",
       "      <td>1.714201</td>\n",
       "    </tr>\n",
       "    <tr>\n",
       "      <th>6</th>\n",
       "      <td>axel</td>\n",
       "      <td>feo</td>\n",
       "      <td>16.666667</td>\n",
       "      <td>1.597056</td>\n",
       "    </tr>\n",
       "    <tr>\n",
       "      <th>7</th>\n",
       "      <td>axel</td>\n",
       "      <td>comadreja</td>\n",
       "      <td>45.555556</td>\n",
       "      <td>2.413517</td>\n",
       "    </tr>\n",
       "    <tr>\n",
       "      <th>8</th>\n",
       "      <td>axel</td>\n",
       "      <td>vacuna</td>\n",
       "      <td>23.833333</td>\n",
       "      <td>1.925421</td>\n",
       "    </tr>\n",
       "    <tr>\n",
       "      <th>9</th>\n",
       "      <td>axel</td>\n",
       "      <td>virar</td>\n",
       "      <td>24.800000</td>\n",
       "      <td>1.842756</td>\n",
       "    </tr>\n",
       "    <tr>\n",
       "      <th>10</th>\n",
       "      <td>axel</td>\n",
       "      <td>ala</td>\n",
       "      <td>15.500000</td>\n",
       "      <td>1.199042</td>\n",
       "    </tr>\n",
       "    <tr>\n",
       "      <th>11</th>\n",
       "      <td>axel</td>\n",
       "      <td>asa</td>\n",
       "      <td>23.000000</td>\n",
       "      <td>1.169841</td>\n",
       "    </tr>\n",
       "    <tr>\n",
       "      <th>12</th>\n",
       "      <td>axel</td>\n",
       "      <td>orangutan</td>\n",
       "      <td>22.888889</td>\n",
       "      <td>2.372421</td>\n",
       "    </tr>\n",
       "    <tr>\n",
       "      <th>13</th>\n",
       "      <td>axel</td>\n",
       "      <td>habito</td>\n",
       "      <td>33.500000</td>\n",
       "      <td>1.991702</td>\n",
       "    </tr>\n",
       "    <tr>\n",
       "      <th>14</th>\n",
       "      <td>axel</td>\n",
       "      <td>tasa</td>\n",
       "      <td>41.666667</td>\n",
       "      <td>1.611327</td>\n",
       "    </tr>\n",
       "  </tbody>\n",
       "</table>\n",
       "</div>"
      ],
      "text/plain": [
       "    user       word    average      time\n",
       "0   axel     tabaco  38.333333  2.245312\n",
       "1   axel       lana  12.666667  1.476318\n",
       "2   axel       mala  19.333333  1.350228\n",
       "3   axel      rumbo  33.400000  2.183524\n",
       "4   axel       mapa  27.000000  1.633816\n",
       "5   axel       puso  27.250000  1.714201\n",
       "6   axel        feo  16.666667  1.597056\n",
       "7   axel  comadreja  45.555556  2.413517\n",
       "8   axel     vacuna  23.833333  1.925421\n",
       "9   axel      virar  24.800000  1.842756\n",
       "10  axel        ala  15.500000  1.199042\n",
       "11  axel        asa  23.000000  1.169841\n",
       "12  axel  orangutan  22.888889  2.372421\n",
       "13  axel     habito  33.500000  1.991702\n",
       "14  axel       tasa  41.666667  1.611327"
      ]
     },
     "execution_count": 5,
     "metadata": {},
     "output_type": "execute_result"
    }
   ],
   "source": [
    "df.head(15)"
   ]
  },
  {
   "cell_type": "code",
   "execution_count": 6,
   "metadata": {
    "collapsed": true,
    "deletable": true,
    "editable": true
   },
   "outputs": [],
   "source": [
    "#Calculate length of each word\n",
    "for index, row in df.iterrows():\n",
    "    df.loc[index, \"length\"] = len(row[\"word\"])"
   ]
  },
  {
   "cell_type": "code",
   "execution_count": 7,
   "metadata": {
    "collapsed": true,
    "deletable": true,
    "editable": true
   },
   "outputs": [],
   "source": [
    "df[\"length\"] = df[\"length\"].astype(int)"
   ]
  },
  {
   "cell_type": "code",
   "execution_count": 8,
   "metadata": {
    "collapsed": false,
    "deletable": true,
    "editable": true
   },
   "outputs": [
    {
     "data": {
      "text/html": [
       "<div>\n",
       "<table border=\"1\" class=\"dataframe\">\n",
       "  <thead>\n",
       "    <tr style=\"text-align: right;\">\n",
       "      <th></th>\n",
       "      <th>user</th>\n",
       "      <th>word</th>\n",
       "      <th>average</th>\n",
       "      <th>time</th>\n",
       "      <th>length</th>\n",
       "    </tr>\n",
       "  </thead>\n",
       "  <tbody>\n",
       "    <tr>\n",
       "      <th>0</th>\n",
       "      <td>axel</td>\n",
       "      <td>tabaco</td>\n",
       "      <td>38.333333</td>\n",
       "      <td>2.245312</td>\n",
       "      <td>6</td>\n",
       "    </tr>\n",
       "    <tr>\n",
       "      <th>1</th>\n",
       "      <td>axel</td>\n",
       "      <td>lana</td>\n",
       "      <td>12.666667</td>\n",
       "      <td>1.476318</td>\n",
       "      <td>4</td>\n",
       "    </tr>\n",
       "    <tr>\n",
       "      <th>2</th>\n",
       "      <td>axel</td>\n",
       "      <td>mala</td>\n",
       "      <td>19.333333</td>\n",
       "      <td>1.350228</td>\n",
       "      <td>4</td>\n",
       "    </tr>\n",
       "    <tr>\n",
       "      <th>3</th>\n",
       "      <td>axel</td>\n",
       "      <td>rumbo</td>\n",
       "      <td>33.400000</td>\n",
       "      <td>2.183524</td>\n",
       "      <td>5</td>\n",
       "    </tr>\n",
       "    <tr>\n",
       "      <th>4</th>\n",
       "      <td>axel</td>\n",
       "      <td>mapa</td>\n",
       "      <td>27.000000</td>\n",
       "      <td>1.633816</td>\n",
       "      <td>4</td>\n",
       "    </tr>\n",
       "    <tr>\n",
       "      <th>5</th>\n",
       "      <td>axel</td>\n",
       "      <td>puso</td>\n",
       "      <td>27.250000</td>\n",
       "      <td>1.714201</td>\n",
       "      <td>4</td>\n",
       "    </tr>\n",
       "    <tr>\n",
       "      <th>6</th>\n",
       "      <td>axel</td>\n",
       "      <td>feo</td>\n",
       "      <td>16.666667</td>\n",
       "      <td>1.597056</td>\n",
       "      <td>3</td>\n",
       "    </tr>\n",
       "    <tr>\n",
       "      <th>7</th>\n",
       "      <td>axel</td>\n",
       "      <td>comadreja</td>\n",
       "      <td>45.555556</td>\n",
       "      <td>2.413517</td>\n",
       "      <td>9</td>\n",
       "    </tr>\n",
       "    <tr>\n",
       "      <th>8</th>\n",
       "      <td>axel</td>\n",
       "      <td>vacuna</td>\n",
       "      <td>23.833333</td>\n",
       "      <td>1.925421</td>\n",
       "      <td>6</td>\n",
       "    </tr>\n",
       "    <tr>\n",
       "      <th>9</th>\n",
       "      <td>axel</td>\n",
       "      <td>virar</td>\n",
       "      <td>24.800000</td>\n",
       "      <td>1.842756</td>\n",
       "      <td>5</td>\n",
       "    </tr>\n",
       "  </tbody>\n",
       "</table>\n",
       "</div>"
      ],
      "text/plain": [
       "   user       word    average      time  length\n",
       "0  axel     tabaco  38.333333  2.245312       6\n",
       "1  axel       lana  12.666667  1.476318       4\n",
       "2  axel       mala  19.333333  1.350228       4\n",
       "3  axel      rumbo  33.400000  2.183524       5\n",
       "4  axel       mapa  27.000000  1.633816       4\n",
       "5  axel       puso  27.250000  1.714201       4\n",
       "6  axel        feo  16.666667  1.597056       3\n",
       "7  axel  comadreja  45.555556  2.413517       9\n",
       "8  axel     vacuna  23.833333  1.925421       6\n",
       "9  axel      virar  24.800000  1.842756       5"
      ]
     },
     "execution_count": 8,
     "metadata": {},
     "output_type": "execute_result"
    }
   ],
   "source": [
    "df.head(10)"
   ]
  },
  {
   "cell_type": "code",
   "execution_count": 9,
   "metadata": {
    "collapsed": true,
    "deletable": true,
    "editable": true
   },
   "outputs": [],
   "source": [
    "#Change user variable to numeric (axel->0 / martins->1)\n",
    "for index, row in df.iterrows():\n",
    "    if(row[\"user\"] == \"axel\"):\n",
    "        df.loc[index, \"userNum\"] = 0\n",
    "    else:\n",
    "        df.loc[index, \"userNum\"] = 1"
   ]
  },
  {
   "cell_type": "code",
   "execution_count": 10,
   "metadata": {
    "collapsed": true,
    "deletable": true,
    "editable": true
   },
   "outputs": [],
   "source": [
    "df['userNum'] = df['userNum'].astype(int)"
   ]
  },
  {
   "cell_type": "code",
   "execution_count": 11,
   "metadata": {
    "collapsed": false,
    "deletable": true,
    "editable": true
   },
   "outputs": [
    {
     "data": {
      "text/plain": [
       "<matplotlib.axes._subplots.AxesSubplot at 0x7fa93f234a90>"
      ]
     },
     "execution_count": 11,
     "metadata": {},
     "output_type": "execute_result"
    },
    {
     "data": {
      "image/png": "[encoded data removed]",
      "text/plain": [
       "<matplotlib.figure.Figure at 0x7fa945a3a990>"
      ]
     },
     "metadata": {},
     "output_type": "display_data"
    }
   ],
   "source": [
    "sns.set(color_codes=True)\n",
    "sns.regplot(x=\"length\", y=\"average\", data=df)"
   ]
  },
  {
   "cell_type": "code",
   "execution_count": 12,
   "metadata": {
    "collapsed": false,
    "deletable": true,
    "editable": true
   },
   "outputs": [],
   "source": [
    "cleandf = df.drop(\"user\", axis=1)\n",
    "cleandf = cleandf.drop(\"word\", axis=1)"
   ]
  },
  {
   "cell_type": "code",
   "execution_count": 13,
   "metadata": {
    "collapsed": false,
    "deletable": true,
    "editable": true
   },
   "outputs": [
    {
     "data": {
      "text/html": [
       "<div>\n",
       "<table border=\"1\" class=\"dataframe\">\n",
       "  <thead>\n",
       "    <tr style=\"text-align: right;\">\n",
       "      <th></th>\n",
       "      <th>average</th>\n",
       "      <th>time</th>\n",
       "      <th>length</th>\n",
       "      <th>userNum</th>\n",
       "    </tr>\n",
       "  </thead>\n",
       "  <tbody>\n",
       "    <tr>\n",
       "      <th>0</th>\n",
       "      <td>38.333333</td>\n",
       "      <td>2.245312</td>\n",
       "      <td>6</td>\n",
       "      <td>0</td>\n",
       "    </tr>\n",
       "    <tr>\n",
       "      <th>1</th>\n",
       "      <td>12.666667</td>\n",
       "      <td>1.476318</td>\n",
       "      <td>4</td>\n",
       "      <td>0</td>\n",
       "    </tr>\n",
       "    <tr>\n",
       "      <th>2</th>\n",
       "      <td>19.333333</td>\n",
       "      <td>1.350228</td>\n",
       "      <td>4</td>\n",
       "      <td>0</td>\n",
       "    </tr>\n",
       "    <tr>\n",
       "      <th>3</th>\n",
       "      <td>33.400000</td>\n",
       "      <td>2.183524</td>\n",
       "      <td>5</td>\n",
       "      <td>0</td>\n",
       "    </tr>\n",
       "    <tr>\n",
       "      <th>4</th>\n",
       "      <td>27.000000</td>\n",
       "      <td>1.633816</td>\n",
       "      <td>4</td>\n",
       "      <td>0</td>\n",
       "    </tr>\n",
       "    <tr>\n",
       "      <th>5</th>\n",
       "      <td>27.250000</td>\n",
       "      <td>1.714201</td>\n",
       "      <td>4</td>\n",
       "      <td>0</td>\n",
       "    </tr>\n",
       "    <tr>\n",
       "      <th>6</th>\n",
       "      <td>16.666667</td>\n",
       "      <td>1.597056</td>\n",
       "      <td>3</td>\n",
       "      <td>0</td>\n",
       "    </tr>\n",
       "    <tr>\n",
       "      <th>7</th>\n",
       "      <td>45.555556</td>\n",
       "      <td>2.413517</td>\n",
       "      <td>9</td>\n",
       "      <td>0</td>\n",
       "    </tr>\n",
       "    <tr>\n",
       "      <th>8</th>\n",
       "      <td>23.833333</td>\n",
       "      <td>1.925421</td>\n",
       "      <td>6</td>\n",
       "      <td>0</td>\n",
       "    </tr>\n",
       "    <tr>\n",
       "      <th>9</th>\n",
       "      <td>24.800000</td>\n",
       "      <td>1.842756</td>\n",
       "      <td>5</td>\n",
       "      <td>0</td>\n",
       "    </tr>\n",
       "  </tbody>\n",
       "</table>\n",
       "</div>"
      ],
      "text/plain": [
       "     average      time  length  userNum\n",
       "0  38.333333  2.245312       6        0\n",
       "1  12.666667  1.476318       4        0\n",
       "2  19.333333  1.350228       4        0\n",
       "3  33.400000  2.183524       5        0\n",
       "4  27.000000  1.633816       4        0\n",
       "5  27.250000  1.714201       4        0\n",
       "6  16.666667  1.597056       3        0\n",
       "7  45.555556  2.413517       9        0\n",
       "8  23.833333  1.925421       6        0\n",
       "9  24.800000  1.842756       5        0"
      ]
     },
     "execution_count": 13,
     "metadata": {},
     "output_type": "execute_result"
    }
   ],
   "source": [
    "cleandf.head(10)"
   ]
  },
  {
   "cell_type": "code",
   "execution_count": 21,
   "metadata": {
    "collapsed": false,
    "deletable": true,
    "editable": true
   },
   "outputs": [],
   "source": [
    "from sklearn.model_selection import cross_val_score\n",
    "msk = np.random.rand(len(df)) < 0.8\n",
    "train = cleandf[msk]\n",
    "test = cleandf[~msk]\n",
    "#Train values\n",
    "X_train = train.drop(\"userNum\", axis=1)\n",
    "y_train = train[\"userNum\"]\n",
    "#Test values\n",
    "X_test = test.drop(\"userNum\", axis=1)\n",
    "y_test = test[\"userNum\"]"
   ]
  },
  {
   "cell_type": "code",
   "execution_count": 22,
   "metadata": {
    "collapsed": false,
    "deletable": true,
    "editable": true
   },
   "outputs": [
    {
     "name": "stdout",
     "output_type": "stream",
     "text": [
      "0.766682754183\n"
     ]
    }
   ],
   "source": [
    "from sklearn.ensemble import RandomForestClassifier\n",
    "clf = RandomForestClassifier(n_estimators=50)\n",
    "clf.fit(X_train, y_train)\n",
    "scores = cross_val_score(clf, X_train, y_train, cv=5)\n",
    "sc = scores.mean()\n",
    "print sc"
   ]
  },
  {
   "cell_type": "code",
   "execution_count": 19,
   "metadata": {
    "collapsed": true,
    "deletable": true,
    "editable": true
   },
   "outputs": [],
   "source": [
    "pred = clf.predict(X_test)"
   ]
  },
  {
   "cell_type": "code",
   "execution_count": 20,
   "metadata": {
    "collapsed": false,
    "deletable": true,
    "editable": true
   },
   "outputs": [
    {
     "data": {
      "text/html": [
       "<div>\n",
       "<table border=\"1\" class=\"dataframe\">\n",
       "  <thead>\n",
       "    <tr style=\"text-align: right;\">\n",
       "      <th></th>\n",
       "      <th>average</th>\n",
       "      <th>time</th>\n",
       "      <th>length</th>\n",
       "    </tr>\n",
       "  </thead>\n",
       "  <tbody>\n",
       "    <tr>\n",
       "      <th>15</th>\n",
       "      <td>29.666667</td>\n",
       "      <td>1.612164</td>\n",
       "      <td>3</td>\n",
       "    </tr>\n",
       "    <tr>\n",
       "      <th>21</th>\n",
       "      <td>55.454545</td>\n",
       "      <td>2.936632</td>\n",
       "      <td>9</td>\n",
       "    </tr>\n",
       "    <tr>\n",
       "      <th>30</th>\n",
       "      <td>46.166667</td>\n",
       "      <td>1.968258</td>\n",
       "      <td>6</td>\n",
       "    </tr>\n",
       "    <tr>\n",
       "      <th>36</th>\n",
       "      <td>26.333333</td>\n",
       "      <td>1.474314</td>\n",
       "      <td>3</td>\n",
       "    </tr>\n",
       "    <tr>\n",
       "      <th>37</th>\n",
       "      <td>16.666667</td>\n",
       "      <td>1.335844</td>\n",
       "      <td>4</td>\n",
       "    </tr>\n",
       "    <tr>\n",
       "      <th>40</th>\n",
       "      <td>11.333333</td>\n",
       "      <td>1.402328</td>\n",
       "      <td>4</td>\n",
       "    </tr>\n",
       "    <tr>\n",
       "      <th>55</th>\n",
       "      <td>30.800000</td>\n",
       "      <td>1.939739</td>\n",
       "      <td>6</td>\n",
       "    </tr>\n",
       "    <tr>\n",
       "      <th>56</th>\n",
       "      <td>22.600000</td>\n",
       "      <td>2.353584</td>\n",
       "      <td>5</td>\n",
       "    </tr>\n",
       "    <tr>\n",
       "      <th>57</th>\n",
       "      <td>22.000000</td>\n",
       "      <td>1.555246</td>\n",
       "      <td>3</td>\n",
       "    </tr>\n",
       "    <tr>\n",
       "      <th>61</th>\n",
       "      <td>39.916667</td>\n",
       "      <td>3.893208</td>\n",
       "      <td>12</td>\n",
       "    </tr>\n",
       "  </tbody>\n",
       "</table>\n",
       "</div>"
      ],
      "text/plain": [
       "      average      time  length\n",
       "15  29.666667  1.612164       3\n",
       "21  55.454545  2.936632       9\n",
       "30  46.166667  1.968258       6\n",
       "36  26.333333  1.474314       3\n",
       "37  16.666667  1.335844       4\n",
       "40  11.333333  1.402328       4\n",
       "55  30.800000  1.939739       6\n",
       "56  22.600000  2.353584       5\n",
       "57  22.000000  1.555246       3\n",
       "61  39.916667  3.893208      12"
      ]
     },
     "execution_count": 20,
     "metadata": {},
     "output_type": "execute_result"
    }
   ],
   "source": [
    "X_test.head(10)"
   ]
  },
  {
   "cell_type": "code",
   "execution_count": 17,
   "metadata": {
    "collapsed": false,
    "deletable": true,
    "editable": true
   },
   "outputs": [
    {
     "data": {
      "text/plain": [
       "array([0, 0, 0, 0, 0, 1, 0, 1, 0, 0, 0, 1, 0, 0, 1, 0, 0, 0, 1, 0, 0, 0, 1,\n",
       "       1, 1, 0, 0, 0, 0, 0, 1, 0, 1, 0, 0, 1, 0, 1, 0, 0, 0, 0, 1, 0, 0, 0,\n",
       "       1, 0, 0, 0, 0, 0, 0, 1, 0, 0, 0, 0, 0, 1, 0, 1, 0, 0, 0, 1, 1, 1, 0,\n",
       "       0, 0, 0, 1, 0, 0, 1, 0, 0, 1, 0, 1, 0, 1, 0, 0, 1, 0, 0, 0, 0, 0, 0,\n",
       "       0, 0, 0, 1, 0, 0, 0, 0, 0, 1, 0, 1, 0, 0, 0, 0, 0, 0, 0, 0, 1, 0, 0,\n",
       "       0, 0, 0, 0, 0, 1, 0, 0, 0, 0, 0, 1, 1, 1, 0, 0, 0, 0, 1, 1, 0, 0, 0])"
      ]
     },
     "execution_count": 17,
     "metadata": {},
     "output_type": "execute_result"
    }
   ],
   "source": [
    "pred"
   ]
  },
  {
   "cell_type": "code",
   "execution_count": 18,
   "metadata": {
    "collapsed": false,
    "deletable": true,
    "editable": true
   },
   "outputs": [],
   "source": [
    "import cPickle\n",
    "#Save classifier\n",
    "with open(\"classifier.pkl\", \"wb\") as fid:\n",
    "    cPickle.dump(clf, fid)"
   ]
  },
  {
   "cell_type": "code",
   "execution_count": null,
   "metadata": {
    "collapsed": true,
    "deletable": true,
    "editable": true
   },
   "outputs": [],
   "source": []
  }
 ],
 "metadata": {
  "kernelspec": {
   "display_name": "Python 2",
   "language": "python",
   "name": "python2"
  },
  "language_info": {
   "codemirror_mode": {
    "name": "ipython",
    "version": 2
   },
   "file_extension": ".py",
   "mimetype": "text/x-python",
   "name": "python",
   "nbconvert_exporter": "python",
   "pygments_lexer": "ipython2",
   "version": "2.7.12"
  }
 },
 "nbformat": 4,
 "nbformat_minor": 2
}
